{
 "cells": [
  {
   "cell_type": "code",
   "execution_count": 1,
   "metadata": {},
   "outputs": [],
   "source": [
    "import glob\n",
    "import os\n",
    "import numpy as np\n",
    "from sklearn import linear_model, metrics\n",
    "from sklearn.model_selection import train_test_split\n",
    "from PIL import Image\n",
    "import matplotlib.pyplot as plt\n",
    "import tensorflow as tf\n",
    "from sklearn.linear_model import LogisticRegression\n",
    "from tensorflow.keras.models import Model\n",
    "from tensorflow.keras.preprocessing.image import ImageDataGenerator, load_img, img_to_array\n",
    "from GoogletNet import GoogLeNet\n",
    "from SISE import SISE\n",
    "from sklearn.linear_model import Ridge"
   ]
  },
  {
   "cell_type": "code",
   "execution_count": 2,
   "metadata": {},
   "outputs": [],
   "source": [
    "# 이미지 불러오기 및 전처리\n",
    "def load_and_preprocess_images(img_paths, target_size=(224,224)):\n",
    "    img_array_list = []\n",
    "    for img_path in img_paths:\n",
    "        img = np.array(Image.open(tf.io.gfile.GFile(img_path,'rb')).convert('RGB').resize(target_size, Image.BILINEAR), dtype=np.float32)\n",
    "        img = img / 255.0\n",
    "        img = np.expand_dims(img, axis=0)\n",
    "        img_array_list.append(img)\n",
    "    return np.vstack(img_array_list)\n",
    "\n",
    "def create_cav_training_set(concepts, bottleneck, acts):\n",
    "    x = []\n",
    "    labels = []\n",
    "    labels2text = {}\n",
    "    min_data_points = np.min([acts[concept][bottleneck].shape[0] for concept in acts.keys()])\n",
    "\n",
    "    for I, concept in enumerate(concepts):\n",
    "        x.extend(acts[concept][bottleneck][:min_data_points].reshape(min_data_points, -1))\n",
    "        labels.extend([I] * min_data_points)\n",
    "        labels2text[I] = concept\n",
    "    \n",
    "    x = np.array(x)\n",
    "    labels = np.array(labels)\n",
    "\n",
    "    return x, labels, labels2text\n",
    "\n",
    "def train_lm(lm, x, y, labels2text):\n",
    "    x_train, x_test, y_train, y_test = train_test_split(\n",
    "        x, y, test_size=0.33, stratify=y)\n",
    "    \n",
    "    lm.fit(x_train, y_train)\n",
    "    y_pred = lm.predict(x_test)\n",
    "    \n",
    "    num_classes = max(y) + 1\n",
    "    acc = {}\n",
    "    num_correct = 0\n",
    "    for class_id in range(num_classes):\n",
    "        # get indices of all test data that has this class.\n",
    "        idx = (y_test == class_id)\n",
    "        acc[labels2text[class_id]] = metrics.accuracy_score(\n",
    "          y_pred[idx], y_test[idx])\n",
    "        # overall correctness is weighted by the number of examples in this class.\n",
    "        num_correct += (sum(idx) * acc[labels2text[class_id]])\n",
    "    acc['overall'] = float(num_correct) / float(len(y_test))\n",
    "    tf.compat.v1.logging.info('acc per class %s' % (str(acc)))\n",
    "    return acc"
   ]
  },
  {
   "cell_type": "code",
   "execution_count": 3,
   "metadata": {},
   "outputs": [],
   "source": [
    "model = tf.keras.applications.InceptionV3(weights='imagenet', include_top=True)\n",
    "layer_names = ['mixed8', 'mixed9', 'mixed10']\n",
    "target_class_names = ['zebra']\n",
    "concept_names = ['striped']\n",
    "random_concept_names = ['random1', 'random2', 'random3']\n",
    "concept_pairs = []\n",
    "\n",
    "for c in concept_names:\n",
    "    for rc in random_concept_names:\n",
    "        concept_pairs.append([c, rc])\n",
    "\n",
    "layer_outputs = [model.get_layer(name).output for name in layer_names]\n",
    "activation_model = Model(inputs=model.input, outputs=layer_outputs)"
   ]
  },
  {
   "cell_type": "markdown",
   "metadata": {},
   "source": [
    "InceptionV3\n",
    "- (9) activation_2 - 64\n",
    "- (16) activation_4 - 192\n",
    "- (86) mixed2 - 288\n",
    "- (228) mixed7 - 768\n",
    "- (310) mixed10 - 2048\n",
    "\n",
    "레이어 선택 기준: 피쳐의 크기가 감소하기 전의 레이어 선택\n",
    "- InceptionV3 모델의 경우는 피쳐맵 하나에서 여러개의 분기로 나눠져 따로 다운 샘플링 되기 때문에 크기가 감소하기 전 concat 레이어를 선택함"
   ]
  },
  {
   "cell_type": "code",
   "execution_count": 4,
   "metadata": {},
   "outputs": [
    {
     "name": "stdout",
     "output_type": "stream",
     "text": [
      "mixed0 - 40\n",
      "mixed1 - 63\n",
      "mixed2 - 86\n",
      "mixed3 - 100\n",
      "mixed4 - 132\n",
      "mixed5 - 164\n",
      "mixed6 - 196\n",
      "mixed7 - 228\n",
      "mixed8 - 248\n",
      "mixed9_0 - 276\n",
      "mixed9 - 279\n",
      "mixed9_1 - 307\n",
      "mixed10 - 310\n"
     ]
    }
   ],
   "source": [
    "# 레이어 이름과 인덱스 출력\n",
    "for i, layer in enumerate(model.layers):\n",
    "    if 'mixed' in layer.name:\n",
    "        print(f\"{layer.name} - {i}\")"
   ]
  },
  {
   "cell_type": "code",
   "execution_count": 5,
   "metadata": {},
   "outputs": [
    {
     "name": "stdout",
     "output_type": "stream",
     "text": [
      "64 -> 28, 36개 감소 (감소율: -56.25%)\n",
      "192 -> 88, 104개 감소 (감소율: -54.166666666666664%)\n",
      "288 -> 170, 118개 감소 (감소율: -40.97222222222222%)\n",
      "768 -> 372, 396개 감소 (감소율: -51.5625%)\n",
      "2048 -> 883, 1165개 감소 (감소율: -56.884765625%)\n",
      "\n",
      "Total\n",
      "3360 -> 1541, 1819개 감소 (감소율: -54.13690476190476%)\n"
     ]
    }
   ],
   "source": [
    "sise = SISE(model, 'inceptionv3', 'test.jpg', 340, img_size=(299, 299), detail=1)\n",
    "sise.feature_extractor()\n",
    "sise.feature_filtering()\n",
    "sise.postprocess()\n",
    "# sise.generate_layer_visualization_map()\n",
    "# sise.layers_fusion()"
   ]
  },
  {
   "cell_type": "code",
   "execution_count": 6,
   "metadata": {},
   "outputs": [],
   "source": [
    "# plt.imshow(sise.img)\n",
    "# plt.imshow(sise.result, cmap='jet', alpha=0.5)\n",
    "# plt.colorbar()\n",
    "# plt.show()"
   ]
  },
  {
   "cell_type": "code",
   "execution_count": 8,
   "metadata": {},
   "outputs": [
    {
     "data": {
      "text/plain": [
       "<matplotlib.image.AxesImage at 0x1fd92eb7b08>"
      ]
     },
     "execution_count": 8,
     "metadata": {},
     "output_type": "execute_result"
    },
    {
     "data": {
      "image/png": "[encoded data removed]",
      "text/plain": [
       "<Figure size 432x288 with 1 Axes>"
      ]
     },
     "metadata": {
      "needs_background": "light"
     },
     "output_type": "display_data"
    }
   ],
   "source": [
    "plt.imshow(sise.postprocessed_feature_maps['conv4'][:,:,30], cmap='gray')"
   ]
  },
  {
   "cell_type": "code",
   "execution_count": null,
   "metadata": {},
   "outputs": [],
   "source": []
  }
 ],
 "metadata": {
  "kernelspec": {
   "display_name": "tensor",
   "language": "python",
   "name": "tensor"
  },
  "language_info": {
   "codemirror_mode": {
    "name": "ipython",
    "version": 3
   },
   "file_extension": ".py",
   "mimetype": "text/x-python",
   "name": "python",
   "nbconvert_exporter": "python",
   "pygments_lexer": "ipython3",
   "version": "3.7.11"
  }
 },
 "nbformat": 4,
 "nbformat_minor": 2
}
