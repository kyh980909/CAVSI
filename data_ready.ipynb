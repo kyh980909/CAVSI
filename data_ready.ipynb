{
 "cells": [
  {
   "cell_type": "code",
   "execution_count": 1,
   "metadata": {},
   "outputs": [],
   "source": [
    "import numpy as np\n",
    "import os\n",
    "from tensorflow.keras.preprocessing.image import load_img, img_to_array"
   ]
  },
  {
   "cell_type": "code",
   "execution_count": 3,
   "metadata": {},
   "outputs": [],
   "source": [
    "# 개념 이미지와 랜덤 이미지 준비\n",
    "def prepare_data():\n",
    "    concept_folder = 'test_data/striped'\n",
    "    random_folder = 'test_data/random1'\n",
    "    test_image_folder = 'test_data/zebra'\n",
    "    \n",
    "    # 개념 이미지 로드\n",
    "    concept_images = load_images_from_folder(concept_folder)\n",
    "    np.save('concept_images.npy', concept_images)\n",
    "    \n",
    "    # 랜덤 이미지 로드\n",
    "    random_images = load_images_from_folder(random_folder)\n",
    "    np.save('random_images.npy', random_images)\n",
    "    \n",
    "    # 테스트 이미지 로드\n",
    "    test_image = load_images_from_folder(test_image_folder)[0]  # 단일 이미지로 가정\n",
    "    np.save('test_image.npy', test_image)\n",
    "\n",
    "    # 테스트 레이블 준비 (여기서는 임의로 1000개의 클래스 중 하나의 인덱스를 1로 설정)\n",
    "    zebra_class_index = 340  # 예를 들어, zebra 클래스의 인덱스\n",
    "    test_label = np.zeros((1000,))\n",
    "    test_label[zebra_class_index] = 1\n",
    "    np.save('test_label.npy', test_label)\n",
    "\n",
    "# 이미지 폴더에서 이미지 로드\n",
    "def load_images_from_folder(folder, target_size=(299, 299)):\n",
    "    images = []\n",
    "    for filename in os.listdir(folder):\n",
    "        img = load_img(os.path.join(folder, filename), target_size=target_size)\n",
    "        img_array = img_to_array(img)\n",
    "        images.append(img_array)\n",
    "    return np.array(images)"
   ]
  },
  {
   "cell_type": "code",
   "execution_count": 4,
   "metadata": {},
   "outputs": [],
   "source": [
    "prepare_data()"
   ]
  },
  {
   "cell_type": "code",
   "execution_count": null,
   "metadata": {},
   "outputs": [],
   "source": []
  }
 ],
 "metadata": {
  "kernelspec": {
   "display_name": "cavsi",
   "language": "python",
   "name": "python3"
  },
  "language_info": {
   "codemirror_mode": {
    "name": "ipython",
    "version": 3
   },
   "file_extension": ".py",
   "mimetype": "text/x-python",
   "name": "python",
   "nbconvert_exporter": "python",
   "pygments_lexer": "ipython3",
   "version": "3.9.19"
  }
 },
 "nbformat": 4,
 "nbformat_minor": 2
}
